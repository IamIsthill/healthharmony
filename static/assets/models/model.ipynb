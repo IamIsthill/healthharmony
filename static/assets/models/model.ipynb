{
 "cells": [
  {
   "cell_type": "code",
   "execution_count": 91,
   "id": "a0924a2f-3b07-4409-8133-31678074d61a",
   "metadata": {},
   "outputs": [],
   "source": [
    "import pandas as pd\n",
    "\n",
    "df = pd.read_csv('data.csv')\n",
    "df = df[['Season', 'Weather', 'Sickness']]\n",
    "dfna = df[df.isna().any(axis=1)]"
   ]
  },
  {
   "cell_type": "code",
   "execution_count": 92,
   "id": "3145cf67-2592-4632-8b5b-80199ffa01a2",
   "metadata": {},
   "outputs": [],
   "source": [
    "weather=df['Weather'].unique()"
   ]
  },
  {
   "cell_type": "code",
   "execution_count": 93,
   "id": "6f17540a-7ace-4472-8391-42e570c6a2b1",
   "metadata": {},
   "outputs": [],
   "source": [
    "new_rows = []\n",
    "\n",
    "# Iterate over rows with NaN values\n",
    "for index, row in dfna.iterrows():\n",
    "    # Iterate over unique 'Weather' values\n",
    "    for weth in weather:\n",
    "        # Create a new dictionary with modified 'Weather'\n",
    "        new_row = {'Season': row['Season'], 'Weather': weth, 'Sickness': row['Sickness']}\n",
    "        # Append the new dictionary to the list\n",
    "        new_rows.append(new_row)"
   ]
  },
  {
   "cell_type": "code",
   "execution_count": 98,
   "id": "2f4bf212-41c3-4e07-8e71-89e0ee0852b5",
   "metadata": {},
   "outputs": [
    {
     "data": {
      "text/plain": [
       "70"
      ]
     },
     "execution_count": 98,
     "metadata": {},
     "output_type": "execute_result"
    }
   ],
   "source": [
    "newdf = pd.DataFrame(new_rows)\n",
    "final = pd.concat([df, newdf])\n",
    "final = final.dropna()\n",
    "final = final.reset_index(drop=True)\n",
    "df = final\n",
    "len(df)"
   ]
  },
  {
   "cell_type": "code",
   "execution_count": 99,
   "id": "8fd9caf6-f728-4415-96c9-247c602e62c6",
   "metadata": {},
   "outputs": [
    {
     "data": {
      "text/html": [
       "<div>\n",
       "<style scoped>\n",
       "    .dataframe tbody tr th:only-of-type {\n",
       "        vertical-align: middle;\n",
       "    }\n",
       "\n",
       "    .dataframe tbody tr th {\n",
       "        vertical-align: top;\n",
       "    }\n",
       "\n",
       "    .dataframe thead th {\n",
       "        text-align: right;\n",
       "    }\n",
       "</style>\n",
       "<table border=\"1\" class=\"dataframe\">\n",
       "  <thead>\n",
       "    <tr style=\"text-align: right;\">\n",
       "      <th></th>\n",
       "      <th>Season</th>\n",
       "      <th>Weather</th>\n",
       "      <th>Sickness</th>\n",
       "      <th>le_season</th>\n",
       "      <th>le_weather</th>\n",
       "      <th>le_sickness</th>\n",
       "    </tr>\n",
       "  </thead>\n",
       "  <tbody>\n",
       "    <tr>\n",
       "      <th>0</th>\n",
       "      <td>Dry</td>\n",
       "      <td>Thunderstorm</td>\n",
       "      <td>Asthma</td>\n",
       "      <td>0</td>\n",
       "      <td>4</td>\n",
       "      <td>1</td>\n",
       "    </tr>\n",
       "    <tr>\n",
       "      <th>1</th>\n",
       "      <td>Dry</td>\n",
       "      <td>Clouds</td>\n",
       "      <td>Asthma</td>\n",
       "      <td>0</td>\n",
       "      <td>1</td>\n",
       "      <td>1</td>\n",
       "    </tr>\n",
       "    <tr>\n",
       "      <th>2</th>\n",
       "      <td>Dry</td>\n",
       "      <td>Clear</td>\n",
       "      <td>Allergies</td>\n",
       "      <td>0</td>\n",
       "      <td>0</td>\n",
       "      <td>0</td>\n",
       "    </tr>\n",
       "    <tr>\n",
       "      <th>3</th>\n",
       "      <td>Dry</td>\n",
       "      <td>Clouds</td>\n",
       "      <td>Allergies</td>\n",
       "      <td>0</td>\n",
       "      <td>1</td>\n",
       "      <td>0</td>\n",
       "    </tr>\n",
       "    <tr>\n",
       "      <th>4</th>\n",
       "      <td>Dry</td>\n",
       "      <td>Clear</td>\n",
       "      <td>Migraine</td>\n",
       "      <td>0</td>\n",
       "      <td>0</td>\n",
       "      <td>23</td>\n",
       "    </tr>\n",
       "    <tr>\n",
       "      <th>...</th>\n",
       "      <td>...</td>\n",
       "      <td>...</td>\n",
       "      <td>...</td>\n",
       "      <td>...</td>\n",
       "      <td>...</td>\n",
       "      <td>...</td>\n",
       "    </tr>\n",
       "    <tr>\n",
       "      <th>65</th>\n",
       "      <td>Dry</td>\n",
       "      <td>Thunderstorm</td>\n",
       "      <td>Measles</td>\n",
       "      <td>0</td>\n",
       "      <td>4</td>\n",
       "      <td>21</td>\n",
       "    </tr>\n",
       "    <tr>\n",
       "      <th>66</th>\n",
       "      <td>Dry</td>\n",
       "      <td>Clouds</td>\n",
       "      <td>Measles</td>\n",
       "      <td>0</td>\n",
       "      <td>1</td>\n",
       "      <td>21</td>\n",
       "    </tr>\n",
       "    <tr>\n",
       "      <th>67</th>\n",
       "      <td>Dry</td>\n",
       "      <td>Clear</td>\n",
       "      <td>Measles</td>\n",
       "      <td>0</td>\n",
       "      <td>0</td>\n",
       "      <td>21</td>\n",
       "    </tr>\n",
       "    <tr>\n",
       "      <th>68</th>\n",
       "      <td>Dry</td>\n",
       "      <td>Rain</td>\n",
       "      <td>Measles</td>\n",
       "      <td>0</td>\n",
       "      <td>3</td>\n",
       "      <td>21</td>\n",
       "    </tr>\n",
       "    <tr>\n",
       "      <th>69</th>\n",
       "      <td>Dry</td>\n",
       "      <td>Drizzle</td>\n",
       "      <td>Measles</td>\n",
       "      <td>0</td>\n",
       "      <td>2</td>\n",
       "      <td>21</td>\n",
       "    </tr>\n",
       "  </tbody>\n",
       "</table>\n",
       "<p>70 rows × 6 columns</p>\n",
       "</div>"
      ],
      "text/plain": [
       "   Season       Weather   Sickness  le_season  le_weather  le_sickness\n",
       "0     Dry  Thunderstorm     Asthma          0           4            1\n",
       "1     Dry        Clouds     Asthma          0           1            1\n",
       "2     Dry         Clear  Allergies          0           0            0\n",
       "3     Dry        Clouds  Allergies          0           1            0\n",
       "4     Dry         Clear   Migraine          0           0           23\n",
       "..    ...           ...        ...        ...         ...          ...\n",
       "65    Dry  Thunderstorm    Measles          0           4           21\n",
       "66    Dry        Clouds    Measles          0           1           21\n",
       "67    Dry         Clear    Measles          0           0           21\n",
       "68    Dry          Rain    Measles          0           3           21\n",
       "69    Dry       Drizzle    Measles          0           2           21\n",
       "\n",
       "[70 rows x 6 columns]"
      ]
     },
     "execution_count": 99,
     "metadata": {},
     "output_type": "execute_result"
    }
   ],
   "source": [
    "from sklearn.preprocessing import LabelEncoder\n",
    "le_season = LabelEncoder()\n",
    "le_weather = LabelEncoder()\n",
    "le_sickness = LabelEncoder()\n",
    "df['le_season'] = le_season.fit_transform(df['Season'])\n",
    "df['le_weather'] = le_weather.fit_transform(df['Weather'])\n",
    "df['le_sickness'] = le_sickness.fit_transform(df['Sickness'])\n",
    "df"
   ]
  },
  {
   "cell_type": "code",
   "execution_count": 103,
   "id": "0a20a270-03ab-476a-b980-c0d4f2993273",
   "metadata": {},
   "outputs": [
    {
     "data": {
      "text/html": [
       "<div>\n",
       "<style scoped>\n",
       "    .dataframe tbody tr th:only-of-type {\n",
       "        vertical-align: middle;\n",
       "    }\n",
       "\n",
       "    .dataframe tbody tr th {\n",
       "        vertical-align: top;\n",
       "    }\n",
       "\n",
       "    .dataframe thead th {\n",
       "        text-align: right;\n",
       "    }\n",
       "</style>\n",
       "<table border=\"1\" class=\"dataframe\">\n",
       "  <thead>\n",
       "    <tr style=\"text-align: right;\">\n",
       "      <th></th>\n",
       "      <th>le_season</th>\n",
       "      <th>le_weather</th>\n",
       "      <th>le_sickness</th>\n",
       "    </tr>\n",
       "  </thead>\n",
       "  <tbody>\n",
       "    <tr>\n",
       "      <th>0</th>\n",
       "      <td>0</td>\n",
       "      <td>4</td>\n",
       "      <td>1</td>\n",
       "    </tr>\n",
       "    <tr>\n",
       "      <th>1</th>\n",
       "      <td>0</td>\n",
       "      <td>1</td>\n",
       "      <td>1</td>\n",
       "    </tr>\n",
       "    <tr>\n",
       "      <th>2</th>\n",
       "      <td>0</td>\n",
       "      <td>0</td>\n",
       "      <td>0</td>\n",
       "    </tr>\n",
       "    <tr>\n",
       "      <th>3</th>\n",
       "      <td>0</td>\n",
       "      <td>1</td>\n",
       "      <td>0</td>\n",
       "    </tr>\n",
       "    <tr>\n",
       "      <th>4</th>\n",
       "      <td>0</td>\n",
       "      <td>0</td>\n",
       "      <td>23</td>\n",
       "    </tr>\n",
       "  </tbody>\n",
       "</table>\n",
       "</div>"
      ],
      "text/plain": [
       "   le_season  le_weather  le_sickness\n",
       "0          0           4            1\n",
       "1          0           1            1\n",
       "2          0           0            0\n",
       "3          0           1            0\n",
       "4          0           0           23"
      ]
     },
     "execution_count": 103,
     "metadata": {},
     "output_type": "execute_result"
    }
   ],
   "source": [
    "f_df = df.drop(['Season', 'Weather', 'Sickness'], axis=1)\n",
    "f_df.head()"
   ]
  },
  {
   "cell_type": "code",
   "execution_count": 108,
   "id": "e7dc1a6b-6e59-430c-81dd-72fd4a40ceea",
   "metadata": {},
   "outputs": [
    {
     "data": {
      "image/png": "[encoded data removed]",
      "text/plain": [
       "<Figure size 800x600 with 1 Axes>"
      ]
     },
     "metadata": {},
     "output_type": "display_data"
    }
   ],
   "source": [
    "import matplotlib.pyplot as plt\n",
    "plt.figure(figsize=(8, 6))\n",
    "plt.scatter(f_df['le_season'], f_df['le_sickness'], label='Season', color='b')\n",
    "plt.scatter(f_df['le_weather'], f_df['le_sickness'], label='Weather', color='r')\n",
    "plt.xlabel('Encoded Season or Weather')\n",
    "plt.ylabel('Encoded Sickness')\n",
    "plt.title('Relationship between Season/Weather and Sickness')\n",
    "plt.legend()\n",
    "plt.show()"
   ]
  },
  {
   "cell_type": "code",
   "execution_count": 143,
   "id": "a9984c00-a7e7-4230-baf2-188b94db30dd",
   "metadata": {},
   "outputs": [],
   "source": [
    "from sklearn.model_selection import train_test_split\n",
    "X = f_df.drop('le_sickness', axis=1)\n",
    "y = f_df['le_sickness']\n",
    "X_train, X_test, y_train, y_test = train_test_split(X, y, test_size=0.2, random_state=42)"
   ]
  },
  {
   "cell_type": "code",
   "execution_count": 149,
   "id": "55f0e4f8-6112-44dd-bedc-f39be6f6a2c2",
   "metadata": {},
   "outputs": [
    {
     "data": {
      "text/plain": [
       "array([4, 3, 3, 0, 3, 6, 0, 4, 3, 0, 6, 0, 0, 0])"
      ]
     },
     "execution_count": 149,
     "metadata": {},
     "output_type": "execute_result"
    }
   ],
   "source": [
    "from sklearn.tree import DecisionTreeClassifier\n",
    "\n",
    "model = DecisionTreeClassifier(random_state=42)\n",
    "model.fit(X_train, y_train)\n",
    "y_pred = model.predict(X_test)\n",
    "y_pred"
   ]
  },
  {
   "cell_type": "code",
   "execution_count": 163,
   "id": "70a7c1da-aaa2-43c4-9323-1d019f22b50d",
   "metadata": {},
   "outputs": [],
   "source": [
    "def pred(params):\n",
    "    result = model.predict(params)\n",
    "    result = le_sickness.inverse_transform(result)\n",
    "    return result"
   ]
  },
  {
   "cell_type": "code",
   "execution_count": 166,
   "id": "c341df08-f662-4047-8e5b-367248c43a09",
   "metadata": {},
   "outputs": [
    {
     "name": "stderr",
     "output_type": "stream",
     "text": [
      "/opt/anaconda3/lib/python3.11/site-packages/sklearn/base.py:439: UserWarning: X does not have valid feature names, but DecisionTreeClassifier was fitted with feature names\n",
      "  warnings.warn(\n"
     ]
    },
    {
     "data": {
      "text/plain": [
       "array(['Chicken Pox'], dtype=object)"
      ]
     },
     "execution_count": 166,
     "metadata": {},
     "output_type": "execute_result"
    }
   ],
   "source": [
    "pred([[0,6]])"
   ]
  },
  {
   "cell_type": "code",
   "execution_count": 172,
   "id": "8ee35879-bc71-4c41-8357-a3dde65cf267",
   "metadata": {},
   "outputs": [
    {
     "name": "stderr",
     "output_type": "stream",
     "text": [
      "/opt/anaconda3/lib/python3.11/site-packages/sklearn/base.py:439: UserWarning: X does not have valid feature names, but DecisionTreeClassifier was fitted with feature names\n",
      "  warnings.warn(\n"
     ]
    }
   ],
   "source": []
  },
  {
   "cell_type": "code",
   "execution_count": 194,
   "id": "efa3aab5-6e4a-4faf-81b4-f6a269ec4892",
   "metadata": {},
   "outputs": [
    {
     "name": "stdout",
     "output_type": "stream",
     "text": [
      "Instance 1: ['Chicken Pox' 'Contact Rashes' 'Influenza' 'Low Energy' 'Measles'\n",
      " 'Allergies' 'Asthma' 'Bronchitis' 'Chikungunya' 'Cholera']\n"
     ]
    },
    {
     "name": "stderr",
     "output_type": "stream",
     "text": [
      "/opt/anaconda3/lib/python3.11/site-packages/sklearn/base.py:439: UserWarning: X does not have valid feature names, but DecisionTreeClassifier was fitted with feature names\n",
      "  warnings.warn(\n"
     ]
    }
   ],
   "source": [
    "y_prob = model.predict_proba([[0,10]])\n",
    "labels = le_sickness.classes_\n",
    "preds = []\n",
    "\n",
    "for prob in y_prob:\n",
    "    # Create a list of (class_label, probability) tuples\n",
    "    class_prob = list(zip(labels, prob))\n",
    "    \n",
    "    # Sort the tuples by probability in descending order\n",
    "    sort_prob = sorted(class_prob, key=lambda x: x[1], reverse=True)\n",
    "    top_10_classes = [label for label, _ in sort_prob[:10]]\n",
    "    preds.append(top_10_classes)\n",
    "\n",
    "import numpy as np\n",
    "preds = np.array(preds)\n",
    "\n",
    "for i in range(min(5, len(preds))):  # Display for the first 5 instances\n",
    "    print(f\"Instance {i + 1}: {preds[i]}\")"
   ]
  },
  {
   "cell_type": "code",
   "execution_count": null,
   "id": "46ccf195-470d-4ac7-9a30-eb1f92c469ca",
   "metadata": {},
   "outputs": [],
   "source": []
  }
 ],
 "metadata": {
  "kernelspec": {
   "display_name": "Python 3 (ipykernel)",
   "language": "python",
   "name": "python3"
  },
  "language_info": {
   "codemirror_mode": {
    "name": "ipython",
    "version": 3
   },
   "file_extension": ".py",
   "mimetype": "text/x-python",
   "name": "python",
   "nbconvert_exporter": "python",
   "pygments_lexer": "ipython3",
   "version": "3.11.7"
  }
 },
 "nbformat": 4,
 "nbformat_minor": 5
}
